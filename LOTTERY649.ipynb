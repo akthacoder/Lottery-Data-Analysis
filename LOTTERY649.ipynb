{
 "cells": [
  {
   "cell_type": "code",
   "execution_count": 57,
   "id": "44b24bf0-2513-4deb-9875-9259c945b00f",
   "metadata": {},
   "outputs": [],
   "source": [
    "import pandas as pd\n",
    "lottery_canada = pd.read_csv('649.csv')"
   ]
  },
  {
   "cell_type": "code",
   "execution_count": 59,
   "id": "0445c66f-f2b5-4ba6-b5e4-db0b31540208",
   "metadata": {},
   "outputs": [],
   "source": [
    "def extract_numbers(row):\n",
    "    row = row[4:10]\n",
    "    row = set(row.values)\n",
    "    return row"
   ]
  },
  {
   "cell_type": "code",
   "execution_count": 61,
   "id": "df9ad3e3-2ba9-4684-88e8-52477c95f35f",
   "metadata": {},
   "outputs": [
    {
     "data": {
      "text/plain": [
       "0    {3, 41, 11, 12, 43, 14}\n",
       "1    {33, 36, 37, 39, 8, 41}\n",
       "2     {1, 6, 39, 23, 24, 27}\n",
       "3     {3, 9, 10, 43, 13, 20}\n",
       "4    {34, 5, 14, 47, 21, 31}\n",
       "dtype: object"
      ]
     },
     "execution_count": 61,
     "metadata": {},
     "output_type": "execute_result"
    }
   ],
   "source": [
    "winning_numbers = lottery_canada.apply(extract_numbers, axis=1)\n",
    "winning_numbers.head()"
   ]
  },
  {
   "cell_type": "code",
   "execution_count": 62,
   "id": "a096a3fb-532c-42bb-9766-0417858b1463",
   "metadata": {},
   "outputs": [],
   "source": [
    "def factorial(n):\n",
    "    a = 1\n",
    "    for i in range(n, 0, -1):\n",
    "        a *= i\n",
    "    return a\n",
    "#define how to make combinations of 1 to 49 numbers of six digits like [32,43,45,34,24,23]\n",
    "def combinations(n, k):\n",
    "    numerator = factorial(n)\n",
    "    denominator = factorial(k) * factorial(n-k)\n",
    "    return numerator/denominator"
   ]
  },
  {
   "cell_type": "code",
   "execution_count": 63,
   "id": "2f08b014-b8b9-47ea-80a8-39dea59a1b42",
   "metadata": {},
   "outputs": [
    {
     "data": {
      "text/plain": [
       "4.0"
      ]
     },
     "execution_count": 63,
     "metadata": {},
     "output_type": "execute_result"
    }
   ],
   "source": [
    "combinations(4,3)"
   ]
  },
  {
   "cell_type": "code",
   "execution_count": 64,
   "id": "12936e62-585b-4bd0-ad80-123ba5983961",
   "metadata": {},
   "outputs": [],
   "source": [
    "def one_ticket_probability(user_numbers):\n",
    "    \n",
    "    n_combinations = combinations(49, 6)\n",
    "    probability_one_ticket = 1/n_combinations\n",
    "    percentage_form = probability_one_ticket * 100\n",
    "    \n",
    "    print('''Your chances to win the big prize with the numbers {} are {:.7f}%.\n",
    "In other words, you have a 1 in {:,} chances to win.'''.format(user_numbers,\n",
    "                    percentage_form, int(n_combinations)))"
   ]
  },
  {
   "cell_type": "code",
   "execution_count": 65,
   "id": "871e05ed-a61b-491c-92c7-04a8bf8b0402",
   "metadata": {},
   "outputs": [
    {
     "name": "stdout",
     "output_type": "stream",
     "text": [
      "Your chances to win the big prize with the numbers [2, 43, 22, 23, 11, 5] are 0.0000072%.\n",
      "In other words, you have a 1 in 13,983,816 chances to win.\n"
     ]
    }
   ],
   "source": [
    "test_input_1 = [2, 43, 22, 23, 11, 5]\n",
    "one_ticket_probability(test_input_1)"
   ]
  },
  {
   "cell_type": "code",
   "execution_count": 66,
   "id": "dc7592d3-c957-44ed-9f5d-3fc8893858d3",
   "metadata": {},
   "outputs": [
    {
     "data": {
      "text/html": [
       "<div>\n",
       "<style scoped>\n",
       "    .dataframe tbody tr th:only-of-type {\n",
       "        vertical-align: middle;\n",
       "    }\n",
       "\n",
       "    .dataframe tbody tr th {\n",
       "        vertical-align: top;\n",
       "    }\n",
       "\n",
       "    .dataframe thead th {\n",
       "        text-align: right;\n",
       "    }\n",
       "</style>\n",
       "<table border=\"1\" class=\"dataframe\">\n",
       "  <thead>\n",
       "    <tr style=\"text-align: right;\">\n",
       "      <th></th>\n",
       "      <th>PRODUCT</th>\n",
       "      <th>DRAW NUMBER</th>\n",
       "      <th>SEQUENCE NUMBER</th>\n",
       "      <th>DRAW DATE</th>\n",
       "      <th>NUMBER DRAWN 1</th>\n",
       "      <th>NUMBER DRAWN 2</th>\n",
       "      <th>NUMBER DRAWN 3</th>\n",
       "      <th>NUMBER DRAWN 4</th>\n",
       "      <th>NUMBER DRAWN 5</th>\n",
       "      <th>NUMBER DRAWN 6</th>\n",
       "      <th>BONUS NUMBER</th>\n",
       "    </tr>\n",
       "  </thead>\n",
       "  <tbody>\n",
       "    <tr>\n",
       "      <th>0</th>\n",
       "      <td>649</td>\n",
       "      <td>1</td>\n",
       "      <td>0</td>\n",
       "      <td>6/12/1982</td>\n",
       "      <td>3</td>\n",
       "      <td>11</td>\n",
       "      <td>12</td>\n",
       "      <td>14</td>\n",
       "      <td>41</td>\n",
       "      <td>43</td>\n",
       "      <td>13</td>\n",
       "    </tr>\n",
       "    <tr>\n",
       "      <th>1</th>\n",
       "      <td>649</td>\n",
       "      <td>2</td>\n",
       "      <td>0</td>\n",
       "      <td>6/19/1982</td>\n",
       "      <td>8</td>\n",
       "      <td>33</td>\n",
       "      <td>36</td>\n",
       "      <td>37</td>\n",
       "      <td>39</td>\n",
       "      <td>41</td>\n",
       "      <td>9</td>\n",
       "    </tr>\n",
       "    <tr>\n",
       "      <th>2</th>\n",
       "      <td>649</td>\n",
       "      <td>3</td>\n",
       "      <td>0</td>\n",
       "      <td>6/26/1982</td>\n",
       "      <td>1</td>\n",
       "      <td>6</td>\n",
       "      <td>23</td>\n",
       "      <td>24</td>\n",
       "      <td>27</td>\n",
       "      <td>39</td>\n",
       "      <td>34</td>\n",
       "    </tr>\n",
       "    <tr>\n",
       "      <th>3</th>\n",
       "      <td>649</td>\n",
       "      <td>4</td>\n",
       "      <td>0</td>\n",
       "      <td>7/3/1982</td>\n",
       "      <td>3</td>\n",
       "      <td>9</td>\n",
       "      <td>10</td>\n",
       "      <td>13</td>\n",
       "      <td>20</td>\n",
       "      <td>43</td>\n",
       "      <td>34</td>\n",
       "    </tr>\n",
       "    <tr>\n",
       "      <th>4</th>\n",
       "      <td>649</td>\n",
       "      <td>5</td>\n",
       "      <td>0</td>\n",
       "      <td>7/10/1982</td>\n",
       "      <td>5</td>\n",
       "      <td>14</td>\n",
       "      <td>21</td>\n",
       "      <td>31</td>\n",
       "      <td>34</td>\n",
       "      <td>47</td>\n",
       "      <td>45</td>\n",
       "    </tr>\n",
       "  </tbody>\n",
       "</table>\n",
       "</div>"
      ],
      "text/plain": [
       "   PRODUCT  DRAW NUMBER  SEQUENCE NUMBER  DRAW DATE  NUMBER DRAWN 1  \\\n",
       "0      649            1                0  6/12/1982               3   \n",
       "1      649            2                0  6/19/1982               8   \n",
       "2      649            3                0  6/26/1982               1   \n",
       "3      649            4                0   7/3/1982               3   \n",
       "4      649            5                0  7/10/1982               5   \n",
       "\n",
       "   NUMBER DRAWN 2  NUMBER DRAWN 3  NUMBER DRAWN 4  NUMBER DRAWN 5  \\\n",
       "0              11              12              14              41   \n",
       "1              33              36              37              39   \n",
       "2               6              23              24              27   \n",
       "3               9              10              13              20   \n",
       "4              14              21              31              34   \n",
       "\n",
       "   NUMBER DRAWN 6  BONUS NUMBER  \n",
       "0              43            13  \n",
       "1              41             9  \n",
       "2              39            34  \n",
       "3              43            34  \n",
       "4              47            45  "
      ]
     },
     "execution_count": 66,
     "metadata": {},
     "output_type": "execute_result"
    }
   ],
   "source": [
    "lottery_canada.head()"
   ]
  },
  {
   "cell_type": "code",
   "execution_count": 67,
   "id": "d258f397-5928-4f93-b7ec-50a029b810b0",
   "metadata": {},
   "outputs": [],
   "source": [
    "def check_historical_occurrence(user_numbers, historical_numbers):   \n",
    "    '''\n",
    "    user_numbers: a Python list\n",
    "    historical numbers: a pandas Series\n",
    "    '''\n",
    "    \n",
    "    user_numbers_set = set(user_numbers)\n",
    "    check_occurrence = historical_numbers == user_numbers_set\n",
    "    n_occurrences = check_occurrence.sum()\n",
    "    \n",
    "    if n_occurrences == 0:\n",
    "        print('''The combination {} has never occured.\n",
    "This doesn't mean it's more likely to occur now. Your chances to win the big prize in the next drawing using the combination {} are 0.0000072%.\n",
    "In other words, you have a 1 in 13,983,816 chances to win.'''.format(user_numbers, user_numbers))\n",
    "        \n",
    "    else:\n",
    "        print('''The number of times combination {} has occured in the past is {}.\n",
    "Your chances to win the big prize in the next drawing using the combination {} are 0.0000072%.\n",
    "In other words, you have a 1 in 13,983,816 chances to win.'''.format(user_numbers, n_occurrences,\n",
    "                                                                            user_numbers))"
   ]
  },
  {
   "cell_type": "code",
   "execution_count": 68,
   "id": "3f9c3626-1f79-4c57-b1c8-06d8a44aa8ce",
   "metadata": {},
   "outputs": [
    {
     "name": "stdout",
     "output_type": "stream",
     "text": [
      "The number of times combination [33, 36, 37, 39, 8, 41] has occured in the past is 1.\n",
      "Your chances to win the big prize in the next drawing using the combination [33, 36, 37, 39, 8, 41] are 0.0000072%.\n",
      "In other words, you have a 1 in 13,983,816 chances to win.\n"
     ]
    }
   ],
   "source": [
    "test_input_3 = [33, 36, 37, 39, 8, 41]\n",
    "check_historical_occurrence(test_input_3, winning_numbers)"
   ]
  },
  {
   "cell_type": "code",
   "execution_count": 69,
   "id": "b250a55e-719f-40c2-83f9-0595c4839374",
   "metadata": {},
   "outputs": [
    {
     "name": "stdout",
     "output_type": "stream",
     "text": [
      "The combination [3, 2, 44, 22, 1, 44] has never occured.\n",
      "This doesn't mean it's more likely to occur now. Your chances to win the big prize in the next drawing using the combination [3, 2, 44, 22, 1, 44] are 0.0000072%.\n",
      "In other words, you have a 1 in 13,983,816 chances to win.\n"
     ]
    }
   ],
   "source": [
    "test_input_4 = [3, 2, 44, 22, 1, 44]\n",
    "check_historical_occurrence(test_input_4, winning_numbers)"
   ]
  },
  {
   "cell_type": "code",
   "execution_count": 70,
   "id": "c94464ff-7aa5-4819-97b3-25e5d8fabd15",
   "metadata": {},
   "outputs": [],
   "source": [
    "def multi_ticket_probability(n_tickets):\n",
    "    \n",
    "    n_combinations = combinations(49, 6)\n",
    "    \n",
    "    probability = n_tickets / n_combinations\n",
    "    percentage_form = probability * 100\n",
    "    \n",
    "    if n_tickets == 1:\n",
    "        print('''Your chances to win the big prize with one ticket are {:.6f}%.\n",
    "In other words, you have a 1 in {:,} chances to win.'''.format(percentage_form, int(n_combinations)))\n",
    "    \n",
    "    else:\n",
    "        combinations_simplified = round(n_combinations / n_tickets)   \n",
    "        print('''Your chances to win the big prize with {:,} different tickets are {:.6f}%.\n",
    "In other words, you have a 1 in {:,} chances to win.'''.format(n_tickets, percentage_form,\n",
    "                                                               combinations_simplified))"
   ]
  },
  {
   "cell_type": "code",
   "execution_count": 80,
   "id": "fa5a9010-7e33-44a8-b62e-63ec906577ee",
   "metadata": {},
   "outputs": [
    {
     "name": "stdout",
     "output_type": "stream",
     "text": [
      "Your chances to win the big prize with one ticket are 0.000007%.\n",
      "In other words, you have a 1 in 13,983,816 chances to win.\n",
      "------------------------\n",
      "Your chances to win the big prize with 10 different tickets are 0.000072%.\n",
      "In other words, you have a 1 in 1,398,382 chances to win.\n",
      "------------------------\n",
      "Your chances to win the big prize with 100 different tickets are 0.000715%.\n",
      "In other words, you have a 1 in 139,838 chances to win.\n",
      "------------------------\n",
      "Your chances to win the big prize with 10,000 different tickets are 0.071511%.\n",
      "In other words, you have a 1 in 1,398 chances to win.\n",
      "------------------------\n",
      "Your chances to win the big prize with 1,000,000 different tickets are 7.151124%.\n",
      "In other words, you have a 1 in 14 chances to win.\n",
      "------------------------\n",
      "Your chances to win the big prize with 6,991,908 different tickets are 50.000000%.\n",
      "In other words, you have a 1 in 2 chances to win.\n",
      "------------------------\n",
      "Your chances to win the big prize with 13,983,816 different tickets are 100.000000%.\n",
      "In other words, you have a 1 in 1 chances to win.\n",
      "------------------------\n"
     ]
    }
   ],
   "source": [
    "test_inputs = [1, 10, 100, 10000, 1000000, 6991908, 13983816]\n",
    "\n",
    "for test_input in test_inputs:\n",
    "    multi_ticket_probability(test_input)\n",
    "    print('------------------------') # output delimiter"
   ]
  },
  {
   "cell_type": "code",
   "execution_count": 83,
   "id": "1cdded0f-8c8b-43aa-85d6-12ade1de4387",
   "metadata": {},
   "outputs": [],
   "source": [
    "#the chance of winning prize of 2,3,4,5 number matched numbers \n",
    "def probability_less_6(n_winning_numbers):\n",
    "    \n",
    "    n_combinations_ticket = combinations(6, n_winning_numbers)\n",
    "    n_combinations_remaining = combinations(43, 6 - n_winning_numbers)\n",
    "    successful_outcomes = n_combinations_ticket * n_combinations_remaining\n",
    "    \n",
    "    n_combinations_total = combinations(49, 6)    \n",
    "    probability = successful_outcomes / n_combinations_total\n",
    "    \n",
    "    probability_percentage = probability * 100    \n",
    "    combinations_simplified = round(n_combinations_total/successful_outcomes)    \n",
    "    print('''Your chances of having {} winning numbers with this ticket are {:.6f}%.\n",
    "In other words, you have a 1 in {:,} chances to win.'''.format(n_winning_numbers, probability_percentage,\n",
    "                                                               int(combinations_simplified)))"
   ]
  },
  {
   "cell_type": "code",
   "execution_count": 84,
   "id": "7e3eac36-2dce-40f2-bf3e-dcc852dd5874",
   "metadata": {},
   "outputs": [
    {
     "name": "stdout",
     "output_type": "stream",
     "text": [
      "Your chances of having 2 winning numbers with this ticket are 13.237803%.\n",
      "In other words, you have a 1 in 8 chances to win.\n",
      "--------------------------\n",
      "Your chances of having 3 winning numbers with this ticket are 1.765040%.\n",
      "In other words, you have a 1 in 57 chances to win.\n",
      "--------------------------\n",
      "Your chances of having 4 winning numbers with this ticket are 0.096862%.\n",
      "In other words, you have a 1 in 1,032 chances to win.\n",
      "--------------------------\n",
      "Your chances of having 5 winning numbers with this ticket are 0.001845%.\n",
      "In other words, you have a 1 in 54,201 chances to win.\n",
      "--------------------------\n"
     ]
    }
   ],
   "source": [
    "for test_input in [2, 3, 4, 5]:\n",
    "    probability_less_6(test_input)\n",
    "    print('--------------------------') # output delimiter"
   ]
  },
  {
   "cell_type": "code",
   "execution_count": null,
   "id": "cf63ebe9-79ed-48a9-a4ec-ced430c389cd",
   "metadata": {},
   "outputs": [],
   "source": []
  },
  {
   "cell_type": "code",
   "execution_count": null,
   "id": "72b23dd8-32bf-4822-9aba-a2588be56abd",
   "metadata": {},
   "outputs": [],
   "source": []
  },
  {
   "cell_type": "code",
   "execution_count": null,
   "id": "d8880c87-44b0-483d-a6f5-2df2dfc113de",
   "metadata": {},
   "outputs": [],
   "source": []
  },
  {
   "cell_type": "code",
   "execution_count": null,
   "id": "2ca4cb57-fc49-46bd-a97e-d39a14057592",
   "metadata": {},
   "outputs": [],
   "source": []
  }
 ],
 "metadata": {
  "kernelspec": {
   "display_name": "Python 3 (ipykernel)",
   "language": "python",
   "name": "python3"
  },
  "language_info": {
   "codemirror_mode": {
    "name": "ipython",
    "version": 3
   },
   "file_extension": ".py",
   "mimetype": "text/x-python",
   "name": "python",
   "nbconvert_exporter": "python",
   "pygments_lexer": "ipython3",
   "version": "3.12.4"
  }
 },
 "nbformat": 4,
 "nbformat_minor": 5
}
